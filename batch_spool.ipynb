{
  "nbformat": 4,
  "nbformat_minor": 0,
  "metadata": {
    "kernelspec": {
      "display_name": "Python 3",
      "language": "python",
      "name": "python3"
    },
    "language_info": {
      "codemirror_mode": {
        "name": "ipython",
        "version": 3
      },
      "file_extension": ".py",
      "mimetype": "text/x-python",
      "name": "python",
      "nbconvert_exporter": "python",
      "pygments_lexer": "ipython3",
      "version": "3.7.4"
    },
    "colab": {
      "name": "batch_spool.ipynb",
      "provenance": [],
      "include_colab_link": true
    }
  },
  "cells": [
    {
      "cell_type": "markdown",
      "metadata": {
        "id": "view-in-github",
        "colab_type": "text"
      },
      "source": [
        "<a href=\"https://colab.research.google.com/github/Olugbemiga/batch-spool/blob/master/batch_spool.ipynb\" target=\"_parent\"><img src=\"https://colab.research.google.com/assets/colab-badge.svg\" alt=\"Open In Colab\"/></a>"
      ]
    },
    {
      "cell_type": "code",
      "metadata": {
        "id": "1eBR3sDp9qB1"
      },
      "source": [
        "def batch_spool(Connection_string,query,num_of_rows,filename):\n",
        "    import pyodbc\n",
        "    import pandas as pd\n",
        "    import math\n",
        "    from pandas import ExcelWriter\n",
        "    cnxn = pyodbc.connect(Connection_string)\n",
        "    data = pd.read_sql(query,cnxn)\n",
        "    num_of_sheets = (math.ceil(len(data)/num_of_rows))\n",
        "    a= 0\n",
        "    num_of_rows0 = num_of_rows\n",
        "    for i in range(num_of_sheets):\n",
        "        data.loc[a:num_of_rows,'batch_num'] = i+1\n",
        "        i= i+1\n",
        "        a = num_of_rows+1\n",
        "        num_of_rows= num_of_rows+num_of_rows0\n",
        "    for i in list(data['batch_num'].unique()):\n",
        "        data.loc[data['batch_num'] == i].to_excel(filename+str(i)+'.xlsx') "
      ],
      "execution_count": null,
      "outputs": []
    },
    {
      "cell_type": "code",
      "metadata": {
        "id": "GYtKAt0o9qB2"
      },
      "source": [
        "batch_spool('Driver={SQL Server}' +';SERVER=172.10.10.10;1587;Database=stage;UID=\"\";PWD=\"\"',\n",
        "            \"select top 1000000000 from t1\",1000000,'FileName')"
      ],
      "execution_count": null,
      "outputs": []
    }
  ]
}