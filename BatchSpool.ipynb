{
  "nbformat": 4,
  "nbformat_minor": 0,
  "metadata": {
    "kernelspec": {
      "display_name": "Python 3",
      "language": "python",
      "name": "python3"
    },
    "language_info": {
      "codemirror_mode": {
        "name": "ipython",
        "version": 3
      },
      "file_extension": ".py",
      "mimetype": "text/x-python",
      "name": "python",
      "nbconvert_exporter": "python",
      "pygments_lexer": "ipython3",
      "version": "3.7.4"
    },
    "colab": {
      "name": "excel project.ipynb",
      "provenance": []
    }
  },
  "cells": [
    {
      "cell_type": "code",
      "metadata": {
        "id": "1eBR3sDp9qB1"
      },
      "source": [
        "def batch_spool(Connection_string,query,num_of_rows,filename):\n",
        "    import pyodbc\n",
        "    import pandas as pd\n",
        "    import math\n",
        "    from pandas import ExcelWriter\n",
        "    cnxn = pyodbc.connect(Connection_string)\n",
        "    data = pd.read_sql(query,cnxn)\n",
        "    num_of_sheets = (math.ceil(len(data)/num_of_rows))\n",
        "    a= 0\n",
        "    num_of_rows0 = num_of_rows\n",
        "    for i in range(num_of_sheets):\n",
        "        data.loc[a:num_of_rows,'batch_num'] = i+1\n",
        "        i= i+1\n",
        "        a = num_of_rows+1\n",
        "        num_of_rows= num_of_rows+num_of_rows0\n",
        "    for i in list(data['batch_num'].unique()):\n",
        "        data.loc[data['batch_num'] == i].to_excel(filename+str(i)+'.xlsx') "
      ],
      "execution_count": null,
      "outputs": []
    },
    {
      "cell_type": "code",
      "metadata": {
        "id": "GYtKAt0o9qB2",
        "outputId": "61327817-259c-4d40-d64c-010e35b718a9"
      },
      "source": [
        "batch_spool('Driver={SQL Server}' +';SERVER=172.25.1.247;1554;Database=stage;UID=\"\";PWD=\"\"',\n",
        "            \"select top 1000000000 from t1\",1000000,'FileName')"
      ],
      "execution_count": null,
      "outputs": [
        {
          "ename": "NameError",
          "evalue": "name 'batch_spool' is not defined",
          "output_type": "error",
          "traceback": [
            "\u001b[1;31m---------------------------------------------------------------------------\u001b[0m",
            "\u001b[1;31mNameError\u001b[0m                                 Traceback (most recent call last)",
            "\u001b[1;32m<ipython-input-2-e50110732793>\u001b[0m in \u001b[0;36m<module>\u001b[1;34m()\u001b[0m\n\u001b[1;32m----> 1\u001b[1;33m batch_spool('Driver={SQL Server}' +';SERVER=172.25.1.247;1554;Database=stage;UID=infopool;PWD=Businessweek123',\n\u001b[0m\u001b[0;32m      2\u001b[0m             \"select distinct ROW_NUMBER() OVER(ORDER BY from_account_id DESC) AS Row, left(pan,6)+'******'+right(pan,4) pan,retrieval_reference_nr,CONVERT(date, datetime_req) Date, CONVERT(time, datetime_req) Time,from_account_id,tran_currency_code,c.name tran_crncy_name,   b.terminal_id, left(b.terminal_id,4) Bank_terminal_code,case when left(pan,6) in ('422584','422594','506102','506103','517863','517868','519863','519885','519911','521090') then 'UBACard' else 'NonUBACard' END Card,b.card_acceptor_name_loc, (case when pos_terminal_type = '01' then 'POS' when pos_terminal_type = '02' then 'ATM' else 'WEB' end) AS Terminal_Type , rsp_code_rsp,tran_type,system_trace_audit_nr from postilion_office.dbo.post_tran a, postilion_office.dbo.post_tran_cust b, postilion_office.dbo.post_currencies c, postilion_office.dbo.post_currencies d where a.post_tran_cust_id = b.post_tran_cust_id and a.tran_currency_code = c.currency_code and a.settle_currency_code = d.currency_code and datetime_req >= getdate()-11 and datetime_req <= getdate()-4 and rsp_code_rsp = '00' and message_type in ('0200','0100') and tran_amount_req <> 0 and tran_postilion_originated ='1' and from_account_id is not NULL and pos_terminal_type in ('02')and terminal_id  like '1033%'\",1000000,'log')\n",
            "\u001b[1;31mNameError\u001b[0m: name 'batch_spool' is not defined"
          ]
        }
      ]
    }
  ]
}