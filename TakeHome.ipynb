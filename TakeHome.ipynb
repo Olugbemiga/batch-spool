{
  "nbformat": 4,
  "nbformat_minor": 0,
  "metadata": {
    "colab": {
      "name": "Dentsu_DE_TakeHome.ipynb",
      "provenance": [],
      "collapsed_sections": []
    },
    "kernelspec": {
      "name": "python3",
      "display_name": "Python 3"
    },
    "language_info": {
      "name": "python"
    }
  },
  "cells": [
    {
      "cell_type": "code",
      "source": [
        "#import libraries\n",
        "import spotipy\n",
        "import pandas as pd\n",
        "from spotipy.oauth2 import SpotifyClientCredentials\n",
        "\n",
        "#Create Variables( spotify credentials and playlist link )\n",
        "cid = '00b7317977ad4c0d971af8274f1aa790'\n",
        "secret = '6efbf45fe72d435f9739d0c0f4c26db5'\n",
        "playlist_link = 'https://open.spotify.com/playlist/37i9dQZF1DX0XUsuxWHRQd'\n",
        "\n",
        "#authorization\n",
        "client_credentials_manager = SpotifyClientCredentials(client_id=cid, client_secret=secret)\n",
        "sp = spotipy.Spotify(client_credentials_manager=client_credentials_manager)\n",
        "\n",
        "#DErivationof the playlistID\n",
        "playlist_URI = playlist_link.split(\"/\")[-1].split(\"?\")[0]\n",
        "print(playlist_URI)\n",
        "result = [x[\"track\"][\"artists\"][0]for x in sp.playlist_tracks(playlist_URI)[\"items\"]]\n",
        "# results = [x[\"artists\"]for x in sp.artists(\"artist_id\")]\n",
        "\n",
        "print(result)\n"
      ],
      "metadata": {
        "colab": {
          "base_uri": "https://localhost:8080/"
        },
        "id": "XNgj2seT4Rrh",
        "outputId": "7bd5fe38-fa33-4c6e-c942-421229edddb9"
      },
      "execution_count": 3,
      "outputs": [
        {
          "output_type": "stream",
          "name": "stdout",
          "text": [
            "37i9dQZF1DX0XUsuxWHRQd\n",
            "[{'external_urls': {'spotify': 'https://open.spotify.com/artist/46SHBwWsqBkxI7EeeBEQG7'}, 'href': 'https://api.spotify.com/v1/artists/46SHBwWsqBkxI7EeeBEQG7', 'id': '46SHBwWsqBkxI7EeeBEQG7', 'name': 'Kodak Black', 'type': 'artist', 'uri': 'spotify:artist:46SHBwWsqBkxI7EeeBEQG7'}, {'external_urls': {'spotify': 'https://open.spotify.com/artist/31W5EY0aAly4Qieq6OFu6I'}, 'href': 'https://api.spotify.com/v1/artists/31W5EY0aAly4Qieq6OFu6I', 'id': '31W5EY0aAly4Qieq6OFu6I', 'name': 'A Boogie Wit da Hoodie', 'type': 'artist', 'uri': 'spotify:artist:31W5EY0aAly4Qieq6OFu6I'}, {'external_urls': {'spotify': 'https://open.spotify.com/artist/45TgXXqMDdF8BkjA83OM7z'}, 'href': 'https://api.spotify.com/v1/artists/45TgXXqMDdF8BkjA83OM7z', 'id': '45TgXXqMDdF8BkjA83OM7z', 'name': 'Rod Wave', 'type': 'artist', 'uri': 'spotify:artist:45TgXXqMDdF8BkjA83OM7z'}, {'external_urls': {'spotify': 'https://open.spotify.com/artist/757aE44tKEUQEqRuT6GnEB'}, 'href': 'https://api.spotify.com/v1/artists/757aE44tKEUQEqRuT6GnEB', 'id': '757aE44tKEUQEqRuT6GnEB', 'name': 'Roddy Ricch', 'type': 'artist', 'uri': 'spotify:artist:757aE44tKEUQEqRuT6GnEB'}, {'external_urls': {'spotify': 'https://open.spotify.com/artist/46SHBwWsqBkxI7EeeBEQG7'}, 'href': 'https://api.spotify.com/v1/artists/46SHBwWsqBkxI7EeeBEQG7', 'id': '46SHBwWsqBkxI7EeeBEQG7', 'name': 'Kodak Black', 'type': 'artist', 'uri': 'spotify:artist:46SHBwWsqBkxI7EeeBEQG7'}, {'external_urls': {'spotify': 'https://open.spotify.com/artist/6AgTAQt8XS6jRWi4sX7w49'}, 'href': 'https://api.spotify.com/v1/artists/6AgTAQt8XS6jRWi4sX7w49', 'id': '6AgTAQt8XS6jRWi4sX7w49', 'name': 'Polo G', 'type': 'artist', 'uri': 'spotify:artist:6AgTAQt8XS6jRWi4sX7w49'}, {'external_urls': {'spotify': 'https://open.spotify.com/artist/2hlmm7s2ICUX0LVIhVFlZQ'}, 'href': 'https://api.spotify.com/v1/artists/2hlmm7s2ICUX0LVIhVFlZQ', 'id': '2hlmm7s2ICUX0LVIhVFlZQ', 'name': 'Gunna', 'type': 'artist', 'uri': 'spotify:artist:2hlmm7s2ICUX0LVIhVFlZQ'}, {'external_urls': {'spotify': 'https://open.spotify.com/artist/757aE44tKEUQEqRuT6GnEB'}, 'href': 'https://api.spotify.com/v1/artists/757aE44tKEUQEqRuT6GnEB', 'id': '757aE44tKEUQEqRuT6GnEB', 'name': 'Roddy Ricch', 'type': 'artist', 'uri': 'spotify:artist:757aE44tKEUQEqRuT6GnEB'}, {'external_urls': {'spotify': 'https://open.spotify.com/artist/3Rx4PJ7SP6unkOk5elPUK7'}, 'href': 'https://api.spotify.com/v1/artists/3Rx4PJ7SP6unkOk5elPUK7', 'id': '3Rx4PJ7SP6unkOk5elPUK7', 'name': 'Money Man', 'type': 'artist', 'uri': 'spotify:artist:3Rx4PJ7SP6unkOk5elPUK7'}, {'external_urls': {'spotify': 'https://open.spotify.com/artist/6rIaHuCIUu32uj2CjlEBN3'}, 'href': 'https://api.spotify.com/v1/artists/6rIaHuCIUu32uj2CjlEBN3', 'id': '6rIaHuCIUu32uj2CjlEBN3', 'name': 'Mike Dimes', 'type': 'artist', 'uri': 'spotify:artist:6rIaHuCIUu32uj2CjlEBN3'}, {'external_urls': {'spotify': 'https://open.spotify.com/artist/0RESbWvOMyua0yuyVrztJ5'}, 'href': 'https://api.spotify.com/v1/artists/0RESbWvOMyua0yuyVrztJ5', 'id': '0RESbWvOMyua0yuyVrztJ5', 'name': 'Key Glock', 'type': 'artist', 'uri': 'spotify:artist:0RESbWvOMyua0yuyVrztJ5'}, {'external_urls': {'spotify': 'https://open.spotify.com/artist/0Njy6yR9LykNKYg9yE23QN'}, 'href': 'https://api.spotify.com/v1/artists/0Njy6yR9LykNKYg9yE23QN', 'id': '0Njy6yR9LykNKYg9yE23QN', 'name': 'Nardo Wick', 'type': 'artist', 'uri': 'spotify:artist:0Njy6yR9LykNKYg9yE23QN'}, {'external_urls': {'spotify': 'https://open.spotify.com/artist/4JhbRL6zaItAyzqx4gHTqz'}, 'href': 'https://api.spotify.com/v1/artists/4JhbRL6zaItAyzqx4gHTqz', 'id': '4JhbRL6zaItAyzqx4gHTqz', 'name': '22Gz', 'type': 'artist', 'uri': 'spotify:artist:4JhbRL6zaItAyzqx4gHTqz'}, {'external_urls': {'spotify': 'https://open.spotify.com/artist/0ErzCpIMyLcjPiwT4elrtZ'}, 'href': 'https://api.spotify.com/v1/artists/0ErzCpIMyLcjPiwT4elrtZ', 'id': '0ErzCpIMyLcjPiwT4elrtZ', 'name': 'NLE Choppa', 'type': 'artist', 'uri': 'spotify:artist:0ErzCpIMyLcjPiwT4elrtZ'}, {'external_urls': {'spotify': 'https://open.spotify.com/artist/0Y5tJX1MQlPlqiwlOH1tJY'}, 'href': 'https://api.spotify.com/v1/artists/0Y5tJX1MQlPlqiwlOH1tJY', 'id': '0Y5tJX1MQlPlqiwlOH1tJY', 'name': 'Travis Scott', 'type': 'artist', 'uri': 'spotify:artist:0Y5tJX1MQlPlqiwlOH1tJY'}, {'external_urls': {'spotify': 'https://open.spotify.com/artist/4MCBfE4596Uoi2O4DtmEMz'}, 'href': 'https://api.spotify.com/v1/artists/4MCBfE4596Uoi2O4DtmEMz', 'id': '4MCBfE4596Uoi2O4DtmEMz', 'name': 'Juice WRLD', 'type': 'artist', 'uri': 'spotify:artist:4MCBfE4596Uoi2O4DtmEMz'}, {'external_urls': {'spotify': 'https://open.spotify.com/artist/4r63FhuTkUYltbVAg5TQnk'}, 'href': 'https://api.spotify.com/v1/artists/4r63FhuTkUYltbVAg5TQnk', 'id': '4r63FhuTkUYltbVAg5TQnk', 'name': 'DaBaby', 'type': 'artist', 'uri': 'spotify:artist:4r63FhuTkUYltbVAg5TQnk'}, {'external_urls': {'spotify': 'https://open.spotify.com/artist/0Y5tJX1MQlPlqiwlOH1tJY'}, 'href': 'https://api.spotify.com/v1/artists/0Y5tJX1MQlPlqiwlOH1tJY', 'id': '0Y5tJX1MQlPlqiwlOH1tJY', 'name': 'Travis Scott', 'type': 'artist', 'uri': 'spotify:artist:0Y5tJX1MQlPlqiwlOH1tJY'}, {'external_urls': {'spotify': 'https://open.spotify.com/artist/50co4Is1HCEo8bhOyUWKpn'}, 'href': 'https://api.spotify.com/v1/artists/50co4Is1HCEo8bhOyUWKpn', 'id': '50co4Is1HCEo8bhOyUWKpn', 'name': 'Young Thug', 'type': 'artist', 'uri': 'spotify:artist:50co4Is1HCEo8bhOyUWKpn'}, {'external_urls': {'spotify': 'https://open.spotify.com/artist/20sxb77xiYeusSH8cVdatc'}, 'href': 'https://api.spotify.com/v1/artists/20sxb77xiYeusSH8cVdatc', 'id': '20sxb77xiYeusSH8cVdatc', 'name': 'Meek Mill', 'type': 'artist', 'uri': 'spotify:artist:20sxb77xiYeusSH8cVdatc'}, {'external_urls': {'spotify': 'https://open.spotify.com/artist/20qISvAhX20dpIbOOzGK3q'}, 'href': 'https://api.spotify.com/v1/artists/20qISvAhX20dpIbOOzGK3q', 'id': '20qISvAhX20dpIbOOzGK3q', 'name': 'Nas', 'type': 'artist', 'uri': 'spotify:artist:20qISvAhX20dpIbOOzGK3q'}, {'external_urls': {'spotify': 'https://open.spotify.com/artist/3TVXtAsR1Inumwj472S9r4'}, 'href': 'https://api.spotify.com/v1/artists/3TVXtAsR1Inumwj472S9r4', 'id': '3TVXtAsR1Inumwj472S9r4', 'name': 'Drake', 'type': 'artist', 'uri': 'spotify:artist:3TVXtAsR1Inumwj472S9r4'}, {'external_urls': {'spotify': 'https://open.spotify.com/artist/5SXuuuRpukkTvsLuUknva1'}, 'href': 'https://api.spotify.com/v1/artists/5SXuuuRpukkTvsLuUknva1', 'id': '5SXuuuRpukkTvsLuUknva1', 'name': 'Baby Keem', 'type': 'artist', 'uri': 'spotify:artist:5SXuuuRpukkTvsLuUknva1'}, {'external_urls': {'spotify': 'https://open.spotify.com/artist/6jGMq4yGs7aQzuGsMgVgZR'}, 'href': 'https://api.spotify.com/v1/artists/6jGMq4yGs7aQzuGsMgVgZR', 'id': '6jGMq4yGs7aQzuGsMgVgZR', 'name': 'Lil Tjay', 'type': 'artist', 'uri': 'spotify:artist:6jGMq4yGs7aQzuGsMgVgZR'}, {'external_urls': {'spotify': 'https://open.spotify.com/artist/3TVXtAsR1Inumwj472S9r4'}, 'href': 'https://api.spotify.com/v1/artists/3TVXtAsR1Inumwj472S9r4', 'id': '3TVXtAsR1Inumwj472S9r4', 'name': 'Drake', 'type': 'artist', 'uri': 'spotify:artist:3TVXtAsR1Inumwj472S9r4'}, {'external_urls': {'spotify': 'https://open.spotify.com/artist/3hcs9uc56yIGFCSy9leWe7'}, 'href': 'https://api.spotify.com/v1/artists/3hcs9uc56yIGFCSy9leWe7', 'id': '3hcs9uc56yIGFCSy9leWe7', 'name': 'Lil Durk', 'type': 'artist', 'uri': 'spotify:artist:3hcs9uc56yIGFCSy9leWe7'}, {'external_urls': {'spotify': 'https://open.spotify.com/artist/3tJoFztHeIJkJWMrx0td2f'}, 'href': 'https://api.spotify.com/v1/artists/3tJoFztHeIJkJWMrx0td2f', 'id': '3tJoFztHeIJkJWMrx0td2f', 'name': 'Moneybagg Yo', 'type': 'artist', 'uri': 'spotify:artist:3tJoFztHeIJkJWMrx0td2f'}, {'external_urls': {'spotify': 'https://open.spotify.com/artist/5K4W6rqBFWDnAN6FQUkS6x'}, 'href': 'https://api.spotify.com/v1/artists/5K4W6rqBFWDnAN6FQUkS6x', 'id': '5K4W6rqBFWDnAN6FQUkS6x', 'name': 'Kanye West', 'type': 'artist', 'uri': 'spotify:artist:5K4W6rqBFWDnAN6FQUkS6x'}, {'external_urls': {'spotify': 'https://open.spotify.com/artist/5SXuuuRpukkTvsLuUknva1'}, 'href': 'https://api.spotify.com/v1/artists/5SXuuuRpukkTvsLuUknva1', 'id': '5SXuuuRpukkTvsLuUknva1', 'name': 'Baby Keem', 'type': 'artist', 'uri': 'spotify:artist:5SXuuuRpukkTvsLuUknva1'}, {'external_urls': {'spotify': 'https://open.spotify.com/artist/17lzZA2AlOHwCwFALHttmp'}, 'href': 'https://api.spotify.com/v1/artists/17lzZA2AlOHwCwFALHttmp', 'id': '17lzZA2AlOHwCwFALHttmp', 'name': '2 Chainz', 'type': 'artist', 'uri': 'spotify:artist:17lzZA2AlOHwCwFALHttmp'}, {'external_urls': {'spotify': 'https://open.spotify.com/artist/699OTQXzgjhIYAHMy9RyPD'}, 'href': 'https://api.spotify.com/v1/artists/699OTQXzgjhIYAHMy9RyPD', 'id': '699OTQXzgjhIYAHMy9RyPD', 'name': 'Playboi Carti', 'type': 'artist', 'uri': 'spotify:artist:699OTQXzgjhIYAHMy9RyPD'}, {'external_urls': {'spotify': 'https://open.spotify.com/artist/6AgTAQt8XS6jRWi4sX7w49'}, 'href': 'https://api.spotify.com/v1/artists/6AgTAQt8XS6jRWi4sX7w49', 'id': '6AgTAQt8XS6jRWi4sX7w49', 'name': 'Polo G', 'type': 'artist', 'uri': 'spotify:artist:6AgTAQt8XS6jRWi4sX7w49'}, {'external_urls': {'spotify': 'https://open.spotify.com/artist/3tJoFztHeIJkJWMrx0td2f'}, 'href': 'https://api.spotify.com/v1/artists/3tJoFztHeIJkJWMrx0td2f', 'id': '3tJoFztHeIJkJWMrx0td2f', 'name': 'Moneybagg Yo', 'type': 'artist', 'uri': 'spotify:artist:3tJoFztHeIJkJWMrx0td2f'}, {'external_urls': {'spotify': 'https://open.spotify.com/artist/3NbMf2TTL0tcjISP5AFgzf'}, 'href': 'https://api.spotify.com/v1/artists/3NbMf2TTL0tcjISP5AFgzf', 'id': '3NbMf2TTL0tcjISP5AFgzf', 'name': 'Culture Jam', 'type': 'artist', 'uri': 'spotify:artist:3NbMf2TTL0tcjISP5AFgzf'}, {'external_urls': {'spotify': 'https://open.spotify.com/artist/55Aa2cqylxrFIXC767Z865'}, 'href': 'https://api.spotify.com/v1/artists/55Aa2cqylxrFIXC767Z865', 'id': '55Aa2cqylxrFIXC767Z865', 'name': 'Lil Wayne', 'type': 'artist', 'uri': 'spotify:artist:55Aa2cqylxrFIXC767Z865'}, {'external_urls': {'spotify': 'https://open.spotify.com/artist/757aE44tKEUQEqRuT6GnEB'}, 'href': 'https://api.spotify.com/v1/artists/757aE44tKEUQEqRuT6GnEB', 'id': '757aE44tKEUQEqRuT6GnEB', 'name': 'Roddy Ricch', 'type': 'artist', 'uri': 'spotify:artist:757aE44tKEUQEqRuT6GnEB'}, {'external_urls': {'spotify': 'https://open.spotify.com/artist/6C1ohJrd5VydigQtaGy5Wa'}, 'href': 'https://api.spotify.com/v1/artists/6C1ohJrd5VydigQtaGy5Wa', 'id': '6C1ohJrd5VydigQtaGy5Wa', 'name': 'Joyner Lucas', 'type': 'artist', 'uri': 'spotify:artist:6C1ohJrd5VydigQtaGy5Wa'}, {'external_urls': {'spotify': 'https://open.spotify.com/artist/7wlFDEWiM5OoIAt8RSli8b'}, 'href': 'https://api.spotify.com/v1/artists/7wlFDEWiM5OoIAt8RSli8b', 'id': '7wlFDEWiM5OoIAt8RSli8b', 'name': 'YoungBoy Never Broke Again', 'type': 'artist', 'uri': 'spotify:artist:7wlFDEWiM5OoIAt8RSli8b'}, {'external_urls': {'spotify': 'https://open.spotify.com/artist/4Gso3d4CscCijv0lmajZWs'}, 'href': 'https://api.spotify.com/v1/artists/4Gso3d4CscCijv0lmajZWs', 'id': '4Gso3d4CscCijv0lmajZWs', 'name': 'Don Toliver', 'type': 'artist', 'uri': 'spotify:artist:4Gso3d4CscCijv0lmajZWs'}, {'external_urls': {'spotify': 'https://open.spotify.com/artist/6AgTAQt8XS6jRWi4sX7w49'}, 'href': 'https://api.spotify.com/v1/artists/6AgTAQt8XS6jRWi4sX7w49', 'id': '6AgTAQt8XS6jRWi4sX7w49', 'name': 'Polo G', 'type': 'artist', 'uri': 'spotify:artist:6AgTAQt8XS6jRWi4sX7w49'}, {'external_urls': {'spotify': 'https://open.spotify.com/artist/4MCBfE4596Uoi2O4DtmEMz'}, 'href': 'https://api.spotify.com/v1/artists/4MCBfE4596Uoi2O4DtmEMz', 'id': '4MCBfE4596Uoi2O4DtmEMz', 'name': 'Juice WRLD', 'type': 'artist', 'uri': 'spotify:artist:4MCBfE4596Uoi2O4DtmEMz'}, {'external_urls': {'spotify': 'https://open.spotify.com/artist/0ErzCpIMyLcjPiwT4elrtZ'}, 'href': 'https://api.spotify.com/v1/artists/0ErzCpIMyLcjPiwT4elrtZ', 'id': '0ErzCpIMyLcjPiwT4elrtZ', 'name': 'NLE Choppa', 'type': 'artist', 'uri': 'spotify:artist:0ErzCpIMyLcjPiwT4elrtZ'}, {'external_urls': {'spotify': 'https://open.spotify.com/artist/6icQOAFXDZKsumw3YXyusw'}, 'href': 'https://api.spotify.com/v1/artists/6icQOAFXDZKsumw3YXyusw', 'id': '6icQOAFXDZKsumw3YXyusw', 'name': 'Lil Yachty', 'type': 'artist', 'uri': 'spotify:artist:6icQOAFXDZKsumw3YXyusw'}, {'external_urls': {'spotify': 'https://open.spotify.com/artist/46SHBwWsqBkxI7EeeBEQG7'}, 'href': 'https://api.spotify.com/v1/artists/46SHBwWsqBkxI7EeeBEQG7', 'id': '46SHBwWsqBkxI7EeeBEQG7', 'name': 'Kodak Black', 'type': 'artist', 'uri': 'spotify:artist:46SHBwWsqBkxI7EeeBEQG7'}, {'external_urls': {'spotify': 'https://open.spotify.com/artist/6AMd49uBDJfhf30Ak2QR5s'}, 'href': 'https://api.spotify.com/v1/artists/6AMd49uBDJfhf30Ak2QR5s', 'id': '6AMd49uBDJfhf30Ak2QR5s', 'name': 'Coi Leray', 'type': 'artist', 'uri': 'spotify:artist:6AMd49uBDJfhf30Ak2QR5s'}, {'external_urls': {'spotify': 'https://open.spotify.com/artist/181bsRPaVXVlUKXrxwZfHK'}, 'href': 'https://api.spotify.com/v1/artists/181bsRPaVXVlUKXrxwZfHK', 'id': '181bsRPaVXVlUKXrxwZfHK', 'name': 'Megan Thee Stallion', 'type': 'artist', 'uri': 'spotify:artist:181bsRPaVXVlUKXrxwZfHK'}, {'external_urls': {'spotify': 'https://open.spotify.com/artist/6veh5zbFpm31XsPdjBgPER'}, 'href': 'https://api.spotify.com/v1/artists/6veh5zbFpm31XsPdjBgPER', 'id': '6veh5zbFpm31XsPdjBgPER', 'name': 'BIA', 'type': 'artist', 'uri': 'spotify:artist:6veh5zbFpm31XsPdjBgPER'}, {'external_urls': {'spotify': 'https://open.spotify.com/artist/3MdXrJWsbVzdn6fe5JYkSQ'}, 'href': 'https://api.spotify.com/v1/artists/3MdXrJWsbVzdn6fe5JYkSQ', 'id': '3MdXrJWsbVzdn6fe5JYkSQ', 'name': 'Latto', 'type': 'artist', 'uri': 'spotify:artist:3MdXrJWsbVzdn6fe5JYkSQ'}, {'external_urls': {'spotify': 'https://open.spotify.com/artist/0c173mlxpT3dSFRgMO8XPh'}, 'href': 'https://api.spotify.com/v1/artists/0c173mlxpT3dSFRgMO8XPh', 'id': '0c173mlxpT3dSFRgMO8XPh', 'name': 'Big Sean', 'type': 'artist', 'uri': 'spotify:artist:0c173mlxpT3dSFRgMO8XPh'}, {'external_urls': {'spotify': 'https://open.spotify.com/artist/0huGjMyP507tBCARyzSkrv'}, 'href': 'https://api.spotify.com/v1/artists/0huGjMyP507tBCARyzSkrv', 'id': '0huGjMyP507tBCARyzSkrv', 'name': 'Cordae', 'type': 'artist', 'uri': 'spotify:artist:0huGjMyP507tBCARyzSkrv'}]\n"
          ]
        }
      ]
    },
    {
      "cell_type": "code",
      "source": [
        "table_ft_list=[\"track_id\",\"track_name\",\"artist_id\",\"artist_name\",\"album_id\",\"album_name\",\"album_release_date\",\"album_type\",\"track_popularity\",\"track_explicit\"]\n",
        "playlist_df = pd.DataFrame(columns = table_ft_list)\n",
        "playlist = sp.playlist_tracks(playlist_URI)[\"items\"]\n",
        "for track in playlist:\n",
        "  playlistft_dict ={}\n",
        "\n",
        "  playlistft_dict[\"track_id\"]= track[\"track\"][\"id\"]\n",
        "  playlistft_dict[\"track_name\"]= track[\"track\"][\"name\"]\n",
        "  playlistft_dict[\"artist_id\"]= track[\"track\"][\"artists\"][0][\"id\"]\n",
        "  playlistft_dict[\"artist_name\"]= track[\"track\"][\"artists\"][0][\"name\"]\n",
        "  playlistft_dict[\"album_id\"]= track[\"track\"][\"album\"][\"id\"]\n",
        "  playlistft_dict[\"album_name\"]= track[\"track\"][\"album\"][\"name\"]\n",
        "  playlistft_dict[\"album_release_date\"]= track[\"track\"][\"album\"][\"release_date\"]\n",
        "  playlistft_dict[\"album_type\"]= track[\"track\"][\"album\"][\"type\"]\n",
        "  playlistft_dict[\"track_popularity\"]= track[\"track\"][\"popularity\"]\n",
        "  playlistft_dict[\"track_explicit\"]= track[\"track\"][\"explicit\"]\n",
        "\n",
        "  # Concat the dfs\n",
        "  track_df = pd.DataFrame(playlistft_dict, index = [0])\n",
        "  playlist_df = pd.concat([playlist_df, track_df], ignore_index = True)\n",
        "  \n"
      ],
      "metadata": {
        "id": "9ncOu6YzdwTC"
      },
      "execution_count": 4,
      "outputs": []
    },
    {
      "cell_type": "code",
      "source": [
        "artiste_ft_list=[\"artist_id\",\"artist_name\",\"popularity\",\"followers\"]\n",
        "artist_df = pd.DataFrame(columns = artiste_ft_list)\n",
        "Artist_id =  [x[\"track\"][\"artists\"][0][\"uri\"]for x in sp.playlist_tracks(playlist_URI)[\"items\"]]\n",
        "Artist_id = list(set(Artist_id))\n",
        "for uri  in Artist_id:\n",
        "  artistft_dict ={}\n",
        "\n",
        "  artistft_dict[\"artist_id\"]= sp.artist(uri)[\"id\"]\n",
        "  artistft_dict[\"artist_name\"]=sp.artist(uri)[\"name\"]\n",
        "  artistft_dict[\"popularity\"]=sp.artist(uri)[\"popularity\"]\n",
        "  artistft_dict[\"followers\"]= sp.artist(uri)[\"followers\"][\"total\"]\n",
        "\n",
        "\n",
        "\n",
        "  # Concat the dfs\n",
        "  artistft_df = pd.DataFrame(artistft_dict, index = [0])\n",
        "  artist_df = pd.concat([artist_df, artistft_df], ignore_index = True)"
      ],
      "metadata": {
        "id": "zJNe0mVAaWY7"
      },
      "execution_count": 5,
      "outputs": []
    },
    {
      "cell_type": "code",
      "source": [
        "artist_df.head(1)\n",
        "# playlist_df.head(1)"
      ],
      "metadata": {
        "colab": {
          "base_uri": "https://localhost:8080/",
          "height": 81
        },
        "id": "N1WZvplAjBqd",
        "outputId": "ab1db8a2-9479-4972-a7fc-48b7e843dcb8"
      },
      "execution_count": 25,
      "outputs": [
        {
          "output_type": "execute_result",
          "data": {
            "text/html": [
              "\n",
              "  <div id=\"df-c8acb499-3bcc-413b-9d6d-fdfe556ab61e\">\n",
              "    <div class=\"colab-df-container\">\n",
              "      <div>\n",
              "<style scoped>\n",
              "    .dataframe tbody tr th:only-of-type {\n",
              "        vertical-align: middle;\n",
              "    }\n",
              "\n",
              "    .dataframe tbody tr th {\n",
              "        vertical-align: top;\n",
              "    }\n",
              "\n",
              "    .dataframe thead th {\n",
              "        text-align: right;\n",
              "    }\n",
              "</style>\n",
              "<table border=\"1\" class=\"dataframe\">\n",
              "  <thead>\n",
              "    <tr style=\"text-align: right;\">\n",
              "      <th></th>\n",
              "      <th>artist_id</th>\n",
              "      <th>artist_name</th>\n",
              "      <th>popularity</th>\n",
              "      <th>followers</th>\n",
              "    </tr>\n",
              "  </thead>\n",
              "  <tbody>\n",
              "    <tr>\n",
              "      <th>0</th>\n",
              "      <td>6AgTAQt8XS6jRWi4sX7w49</td>\n",
              "      <td>Polo G</td>\n",
              "      <td>92</td>\n",
              "      <td>6230995</td>\n",
              "    </tr>\n",
              "  </tbody>\n",
              "</table>\n",
              "</div>\n",
              "      <button class=\"colab-df-convert\" onclick=\"convertToInteractive('df-c8acb499-3bcc-413b-9d6d-fdfe556ab61e')\"\n",
              "              title=\"Convert this dataframe to an interactive table.\"\n",
              "              style=\"display:none;\">\n",
              "        \n",
              "  <svg xmlns=\"http://www.w3.org/2000/svg\" height=\"24px\"viewBox=\"0 0 24 24\"\n",
              "       width=\"24px\">\n",
              "    <path d=\"M0 0h24v24H0V0z\" fill=\"none\"/>\n",
              "    <path d=\"M18.56 5.44l.94 2.06.94-2.06 2.06-.94-2.06-.94-.94-2.06-.94 2.06-2.06.94zm-11 1L8.5 8.5l.94-2.06 2.06-.94-2.06-.94L8.5 2.5l-.94 2.06-2.06.94zm10 10l.94 2.06.94-2.06 2.06-.94-2.06-.94-.94-2.06-.94 2.06-2.06.94z\"/><path d=\"M17.41 7.96l-1.37-1.37c-.4-.4-.92-.59-1.43-.59-.52 0-1.04.2-1.43.59L10.3 9.45l-7.72 7.72c-.78.78-.78 2.05 0 2.83L4 21.41c.39.39.9.59 1.41.59.51 0 1.02-.2 1.41-.59l7.78-7.78 2.81-2.81c.8-.78.8-2.07 0-2.86zM5.41 20L4 18.59l7.72-7.72 1.47 1.35L5.41 20z\"/>\n",
              "  </svg>\n",
              "      </button>\n",
              "      \n",
              "  <style>\n",
              "    .colab-df-container {\n",
              "      display:flex;\n",
              "      flex-wrap:wrap;\n",
              "      gap: 12px;\n",
              "    }\n",
              "\n",
              "    .colab-df-convert {\n",
              "      background-color: #E8F0FE;\n",
              "      border: none;\n",
              "      border-radius: 50%;\n",
              "      cursor: pointer;\n",
              "      display: none;\n",
              "      fill: #1967D2;\n",
              "      height: 32px;\n",
              "      padding: 0 0 0 0;\n",
              "      width: 32px;\n",
              "    }\n",
              "\n",
              "    .colab-df-convert:hover {\n",
              "      background-color: #E2EBFA;\n",
              "      box-shadow: 0px 1px 2px rgba(60, 64, 67, 0.3), 0px 1px 3px 1px rgba(60, 64, 67, 0.15);\n",
              "      fill: #174EA6;\n",
              "    }\n",
              "\n",
              "    [theme=dark] .colab-df-convert {\n",
              "      background-color: #3B4455;\n",
              "      fill: #D2E3FC;\n",
              "    }\n",
              "\n",
              "    [theme=dark] .colab-df-convert:hover {\n",
              "      background-color: #434B5C;\n",
              "      box-shadow: 0px 1px 3px 1px rgba(0, 0, 0, 0.15);\n",
              "      filter: drop-shadow(0px 1px 2px rgba(0, 0, 0, 0.3));\n",
              "      fill: #FFFFFF;\n",
              "    }\n",
              "  </style>\n",
              "\n",
              "      <script>\n",
              "        const buttonEl =\n",
              "          document.querySelector('#df-c8acb499-3bcc-413b-9d6d-fdfe556ab61e button.colab-df-convert');\n",
              "        buttonEl.style.display =\n",
              "          google.colab.kernel.accessAllowed ? 'block' : 'none';\n",
              "\n",
              "        async function convertToInteractive(key) {\n",
              "          const element = document.querySelector('#df-c8acb499-3bcc-413b-9d6d-fdfe556ab61e');\n",
              "          const dataTable =\n",
              "            await google.colab.kernel.invokeFunction('convertToInteractive',\n",
              "                                                     [key], {});\n",
              "          if (!dataTable) return;\n",
              "\n",
              "          const docLinkHtml = 'Like what you see? Visit the ' +\n",
              "            '<a target=\"_blank\" href=https://colab.research.google.com/notebooks/data_table.ipynb>data table notebook</a>'\n",
              "            + ' to learn more about interactive tables.';\n",
              "          element.innerHTML = '';\n",
              "          dataTable['output_type'] = 'display_data';\n",
              "          await google.colab.output.renderOutput(dataTable, element);\n",
              "          const docLink = document.createElement('div');\n",
              "          docLink.innerHTML = docLinkHtml;\n",
              "          element.appendChild(docLink);\n",
              "        }\n",
              "      </script>\n",
              "    </div>\n",
              "  </div>\n",
              "  "
            ],
            "text/plain": [
              "                artist_id artist_name popularity followers\n",
              "0  6AgTAQt8XS6jRWi4sX7w49      Polo G         92   6230995"
            ]
          },
          "metadata": {},
          "execution_count": 25
        }
      ]
    },
    {
      "cell_type": "code",
      "source": [
        "import sqlite3\n",
        "conn = sqlite3.connect('Rap Caviar') \n",
        "c = conn.cursor()\n",
        "# c.execute('''\n",
        "#           drop TABLE artists\n",
        "#           ''')  \n",
        "# c.execute('''\n",
        "#           drop TABLE tracks\n",
        "#           ''')         \n",
        "playlist_df.to_sql('tracks', conn)\n",
        "artist_df.to_sql('artists', conn)\n",
        "\n",
        "# tracks = pd.read_sql('SELECT * FROM tracks', conn)   \n",
        "\n",
        "conn.commit()"
      ],
      "metadata": {
        "id": "lwY0qrd4GTyn"
      },
      "execution_count": 8,
      "outputs": []
    },
    {
      "cell_type": "markdown",
      "source": [
        "# **1).Most_albums_are_released_on**"
      ],
      "metadata": {
        "id": "4x2qPrgZYG8v"
      }
    },
    {
      "cell_type": "code",
      "source": [
        "most_albums_are_released_on  = pd.read_sql('SELECT strftime(\"%w\", album_release_date)Day, count(*) Num_releases FROM tracks group by strftime(\"%w\", album_release_date) order by count(*) desc  LIMIT 1 ', conn)\n",
        "print (most_albums_are_released_on)"
      ],
      "metadata": {
        "colab": {
          "base_uri": "https://localhost:8080/"
        },
        "id": "6m3SFzrhSTKV",
        "outputId": "25586162-4ad0-40d5-fb8d-933fd3785c33"
      },
      "execution_count": 10,
      "outputs": [
        {
          "output_type": "stream",
          "name": "stdout",
          "text": [
            "  Day  Num_releases\n",
            "0   5            41\n"
          ]
        }
      ]
    },
    {
      "cell_type": "markdown",
      "source": [
        "# **2).Which artists have 3+ tracks? Sort your results by the number of tracks from highest to lowest**\n",
        "\n"
      ],
      "metadata": {
        "id": "fnqFUyscYknY"
      }
    },
    {
      "cell_type": "code",
      "source": [
        "Artist_with_3_or_more_tracks  = pd.read_sql('SELECT artist_name, count(*) Num_releases FROM tracks group by artist_name having count(*)>= 3 order by count(*) desc', conn)\n",
        "print (Artist_with_3_or_more_tracks)"
      ],
      "metadata": {
        "colab": {
          "base_uri": "https://localhost:8080/"
        },
        "id": "JwEubXneZS86",
        "outputId": "0aa7dfba-2d2d-4c59-a4d0-2904483aabb3"
      },
      "execution_count": 11,
      "outputs": [
        {
          "output_type": "stream",
          "name": "stdout",
          "text": [
            "   artist_name  Num_releases\n",
            "0  Kodak Black             3\n",
            "1       Polo G             3\n",
            "2  Roddy Ricch             3\n"
          ]
        }
      ]
    },
    {
      "cell_type": "markdown",
      "source": [
        "#**3. Which tracks have both a track and artist popularity of at least 90?**#\n"
      ],
      "metadata": {
        "id": "x9wdpuRSvHaS"
      }
    },
    {
      "cell_type": "code",
      "source": [
        "Tracks_with_track_and_popularity_90  = pd.read_sql('select a.track_name, a.artist_name,a.track_popularity from tracks a where track_popularity>= 90 and exists(select 1 from artists b  where b.popularity >=90 and a.artist_id = b.artist_id)'  , conn)\n",
        "print (Tracks_with_track_and_popularity_90)"
      ],
      "metadata": {
        "colab": {
          "base_uri": "https://localhost:8080/"
        },
        "id": "9lv2qZ_CvVoU",
        "outputId": "7ef5cbc7-20c2-4389-d7f7-7f9d0f8ebe99"
      },
      "execution_count": 34,
      "outputs": [
        {
          "output_type": "stream",
          "name": "stdout",
          "text": [
            "                                     track_name   artist_name  track_popularity\n",
            "0                    Don’t Play (with Lil Baby)        Polo G                79\n",
            "1                                   ESCAPE PLAN  Travis Scott                85\n",
            "2                         Rockstar In His Prime    Juice WRLD                82\n",
            "3                                         MAFIA  Travis Scott                82\n",
            "4            Bubbly (with Drake & Travis Scott)    Young Thug                82\n",
            "5   Knife Talk (with 21 Savage ft. Project Pat)         Drake                89\n",
            "6                Fair Trade (with Travis Scott)         Drake                88\n",
            "7                                    Praise God    Kanye West                88\n",
            "8                     Bad Man (Smooth Criminal)        Polo G                75\n",
            "9                          Feelin' Like Tunechi     Lil Wayne                72\n",
            "10                                 Young N Dumb        Polo G                77\n",
            "11                                 Already Dead    Juice WRLD                84\n"
          ]
        }
      ]
    },
    {
      "cell_type": "markdown",
      "source": [
        "#**4). What are the top 3 months for album releases?**"
      ],
      "metadata": {
        "id": "GjdZOtcXRdE9"
      }
    },
    {
      "cell_type": "code",
      "source": [
        "from pandas.core import groupby\n",
        "#Add athe month of releas column to te dataframe\n",
        "playlist_df['album_release_month'] = pd.DatetimeIndex(playlist_df['album_release_date']).month\n",
        "\n",
        "#dataframe of tracks by album_release_month\n",
        "playlist_df_by_month =playlist_df['album_release_month'].value_counts()\n",
        "\n",
        "\n",
        "#Top 3 album_release_month by count\n",
        "playlist_df_by_month.head(3)\n",
        "\n"
      ],
      "metadata": {
        "colab": {
          "base_uri": "https://localhost:8080/"
        },
        "id": "Z1ZJVU-qzFBW",
        "outputId": "e057f893-0788-4c28-bb11-61ba945fdc29"
      },
      "execution_count": 64,
      "outputs": [
        {
          "output_type": "execute_result",
          "data": {
            "text/plain": [
              "12    17\n",
              "10    14\n",
              "11    10\n",
              "Name: album_release_month, dtype: int64"
            ]
          },
          "metadata": {},
          "execution_count": 64
        }
      ]
    },
    {
      "cell_type": "markdown",
      "source": [
        "#**5. Are clean or explicit songs more popular on average?**"
      ],
      "metadata": {
        "id": "aIPpnIUbch9I"
      }
    },
    {
      "cell_type": "code",
      "source": [
        "playlist_df.head(2)\n",
        "playlist_df.groupby(['track_explicit']).sum(['track_popularity'])\n",
        "\n",
        "\n",
        "#From the output of the above, Explicit songs have a higher popularity"
      ],
      "metadata": {
        "colab": {
          "base_uri": "https://localhost:8080/",
          "height": 151
        },
        "id": "gA198vDjdkPt",
        "outputId": "246a6896-b9f5-4656-ea13-c093035564fb"
      },
      "execution_count": 44,
      "outputs": [
        {
          "output_type": "execute_result",
          "data": {
            "text/html": [
              "\n",
              "  <div id=\"df-1312b36c-1a64-4795-8ce3-86b1213a863d\">\n",
              "    <div class=\"colab-df-container\">\n",
              "      <div>\n",
              "<style scoped>\n",
              "    .dataframe tbody tr th:only-of-type {\n",
              "        vertical-align: middle;\n",
              "    }\n",
              "\n",
              "    .dataframe tbody tr th {\n",
              "        vertical-align: top;\n",
              "    }\n",
              "\n",
              "    .dataframe thead th {\n",
              "        text-align: right;\n",
              "    }\n",
              "</style>\n",
              "<table border=\"1\" class=\"dataframe\">\n",
              "  <thead>\n",
              "    <tr style=\"text-align: right;\">\n",
              "      <th></th>\n",
              "      <th>album_release_month</th>\n",
              "    </tr>\n",
              "    <tr>\n",
              "      <th>track_explicit</th>\n",
              "      <th></th>\n",
              "    </tr>\n",
              "  </thead>\n",
              "  <tbody>\n",
              "    <tr>\n",
              "      <th>False</th>\n",
              "      <td>8</td>\n",
              "    </tr>\n",
              "    <tr>\n",
              "      <th>True</th>\n",
              "      <td>522</td>\n",
              "    </tr>\n",
              "  </tbody>\n",
              "</table>\n",
              "</div>\n",
              "      <button class=\"colab-df-convert\" onclick=\"convertToInteractive('df-1312b36c-1a64-4795-8ce3-86b1213a863d')\"\n",
              "              title=\"Convert this dataframe to an interactive table.\"\n",
              "              style=\"display:none;\">\n",
              "        \n",
              "  <svg xmlns=\"http://www.w3.org/2000/svg\" height=\"24px\"viewBox=\"0 0 24 24\"\n",
              "       width=\"24px\">\n",
              "    <path d=\"M0 0h24v24H0V0z\" fill=\"none\"/>\n",
              "    <path d=\"M18.56 5.44l.94 2.06.94-2.06 2.06-.94-2.06-.94-.94-2.06-.94 2.06-2.06.94zm-11 1L8.5 8.5l.94-2.06 2.06-.94-2.06-.94L8.5 2.5l-.94 2.06-2.06.94zm10 10l.94 2.06.94-2.06 2.06-.94-2.06-.94-.94-2.06-.94 2.06-2.06.94z\"/><path d=\"M17.41 7.96l-1.37-1.37c-.4-.4-.92-.59-1.43-.59-.52 0-1.04.2-1.43.59L10.3 9.45l-7.72 7.72c-.78.78-.78 2.05 0 2.83L4 21.41c.39.39.9.59 1.41.59.51 0 1.02-.2 1.41-.59l7.78-7.78 2.81-2.81c.8-.78.8-2.07 0-2.86zM5.41 20L4 18.59l7.72-7.72 1.47 1.35L5.41 20z\"/>\n",
              "  </svg>\n",
              "      </button>\n",
              "      \n",
              "  <style>\n",
              "    .colab-df-container {\n",
              "      display:flex;\n",
              "      flex-wrap:wrap;\n",
              "      gap: 12px;\n",
              "    }\n",
              "\n",
              "    .colab-df-convert {\n",
              "      background-color: #E8F0FE;\n",
              "      border: none;\n",
              "      border-radius: 50%;\n",
              "      cursor: pointer;\n",
              "      display: none;\n",
              "      fill: #1967D2;\n",
              "      height: 32px;\n",
              "      padding: 0 0 0 0;\n",
              "      width: 32px;\n",
              "    }\n",
              "\n",
              "    .colab-df-convert:hover {\n",
              "      background-color: #E2EBFA;\n",
              "      box-shadow: 0px 1px 2px rgba(60, 64, 67, 0.3), 0px 1px 3px 1px rgba(60, 64, 67, 0.15);\n",
              "      fill: #174EA6;\n",
              "    }\n",
              "\n",
              "    [theme=dark] .colab-df-convert {\n",
              "      background-color: #3B4455;\n",
              "      fill: #D2E3FC;\n",
              "    }\n",
              "\n",
              "    [theme=dark] .colab-df-convert:hover {\n",
              "      background-color: #434B5C;\n",
              "      box-shadow: 0px 1px 3px 1px rgba(0, 0, 0, 0.15);\n",
              "      filter: drop-shadow(0px 1px 2px rgba(0, 0, 0, 0.3));\n",
              "      fill: #FFFFFF;\n",
              "    }\n",
              "  </style>\n",
              "\n",
              "      <script>\n",
              "        const buttonEl =\n",
              "          document.querySelector('#df-1312b36c-1a64-4795-8ce3-86b1213a863d button.colab-df-convert');\n",
              "        buttonEl.style.display =\n",
              "          google.colab.kernel.accessAllowed ? 'block' : 'none';\n",
              "\n",
              "        async function convertToInteractive(key) {\n",
              "          const element = document.querySelector('#df-1312b36c-1a64-4795-8ce3-86b1213a863d');\n",
              "          const dataTable =\n",
              "            await google.colab.kernel.invokeFunction('convertToInteractive',\n",
              "                                                     [key], {});\n",
              "          if (!dataTable) return;\n",
              "\n",
              "          const docLinkHtml = 'Like what you see? Visit the ' +\n",
              "            '<a target=\"_blank\" href=https://colab.research.google.com/notebooks/data_table.ipynb>data table notebook</a>'\n",
              "            + ' to learn more about interactive tables.';\n",
              "          element.innerHTML = '';\n",
              "          dataTable['output_type'] = 'display_data';\n",
              "          await google.colab.output.renderOutput(dataTable, element);\n",
              "          const docLink = document.createElement('div');\n",
              "          docLink.innerHTML = docLinkHtml;\n",
              "          element.appendChild(docLink);\n",
              "        }\n",
              "      </script>\n",
              "    </div>\n",
              "  </div>\n",
              "  "
            ],
            "text/plain": [
              "                album_release_month\n",
              "track_explicit                     \n",
              "False                             8\n",
              "True                            522"
            ]
          },
          "metadata": {},
          "execution_count": 44
        }
      ]
    },
    {
      "cell_type": "markdown",
      "source": [
        "#**6. Is there a relationship between track and artist popularity? If so, what is it?**\n"
      ],
      "metadata": {
        "id": "fG77U7wee5ed"
      }
    },
    {
      "cell_type": "code",
      "source": [
        "#merge the arist and playlist datataframs\n",
        "result = pd.merge(playlist_df, artist_df, how=\"left\", on=[\"artist_id\", \"artist_id\"])\n",
        "result.head(100)\n",
        "\n",
        "# result.corr()\n",
        "\n",
        "result['popularity'] = result['popularity'].astype(float, errors = 'raise')\n",
        "result['track_popularity'] = result['track_popularity'].astype(float, errors = 'raise')\n",
        "\n",
        "\n",
        "correlation = result['track_popularity'].corr(result['popularity'])\n",
        "print(correlation)\n",
        "\n"
      ],
      "metadata": {
        "colab": {
          "base_uri": "https://localhost:8080/"
        },
        "id": "YQLgwdnFfTQ_",
        "outputId": "eb63a674-825a-43b3-cb26-4aaa90b2599b"
      },
      "execution_count": 88,
      "outputs": [
        {
          "output_type": "stream",
          "name": "stdout",
          "text": [
            "0.42972053131824134\n"
          ]
        }
      ]
    }
  ]
}